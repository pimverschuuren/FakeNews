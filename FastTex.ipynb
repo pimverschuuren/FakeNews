{
  "nbformat": 4,
  "nbformat_minor": 0,
  "metadata": {
    "colab": {
      "name": "FastTex.ipynb",
      "provenance": [],
      "collapsed_sections": [],
      "mount_file_id": "11UCtPrU_tXokNX_MJ5UDuOrh0ea65TjL",
      "authorship_tag": "ABX9TyOWYju3S4y1YGIj7DO+qmw+",
      "include_colab_link": true
    },
    "kernelspec": {
      "display_name": "Python 3",
      "name": "python3"
    },
    "language_info": {
      "name": "python"
    },
    "accelerator": "GPU"
  },
  "cells": [
    {
      "cell_type": "markdown",
      "metadata": {
        "id": "view-in-github",
        "colab_type": "text"
      },
      "source": [
        "<a href=\"https://colab.research.google.com/github/pimverschuuren/FakeNews/blob/main/FastTex.ipynb\" target=\"_parent\"><img src=\"https://colab.research.google.com/assets/colab-badge.svg\" alt=\"Open In Colab\"/></a>"
      ]
    },
    {
      "cell_type": "markdown",
      "metadata": {
        "id": "mkL5A_Uda1Wp"
      },
      "source": [
        "This notebook implements a FastTex model as a binary classifier that identifies text as fake or true."
      ]
    },
    {
      "cell_type": "markdown",
      "metadata": {
        "id": "Ug50Dgxqnmpv"
      },
      "source": [
        "Define a function that will include sets of two words in a list of words, i.e. bigrams."
      ]
    },
    {
      "cell_type": "code",
      "metadata": {
        "id": "uxZPr1_Ucxd1"
      },
      "source": [
        "def generate_bigrams(x):\n",
        "    n_grams = set(zip(*[x[i:] for i in range(2)]))\n",
        "    for n_gram in n_grams:\n",
        "        x.append(' '.join(n_gram))\n",
        "    return x"
      ],
      "execution_count": 9,
      "outputs": []
    },
    {
      "cell_type": "markdown",
      "metadata": {
        "id": "8K2hi54SWSh6"
      },
      "source": [
        "Create objects that will facilitate the tokenization of the textual data. Only include the columns that contain the text and the label.\n",
        "\n",
        "\n"
      ]
    },
    {
      "cell_type": "code",
      "metadata": {
        "id": "Blwe0H6RWSH8"
      },
      "source": [
        "import torch\n",
        "from torchtext.legacy import data\n",
        "from torchtext.legacy import datasets\n",
        "\n",
        "SEED = 1234\n",
        "\n",
        "torch.manual_seed(SEED)\n",
        "torch.backends.cudnn.deterministic = True\n",
        "\n",
        "TEXT = data.Field(tokenize = 'spacy',\n",
        "                  tokenizer_language = 'en_core_web_sm',\n",
        "                  preprocessing = generate_bigrams)\n",
        "\n",
        "LABEL = data.LabelField(dtype = torch.float)\n",
        "\n",
        "#fields = [(None, None), ('text', TEXT), (None, None), (None, None),('label',LABEL)]\n",
        "fields = [(None, None), (None, None), (None, None), ('text', TEXT),('label',LABEL)]"
      ],
      "execution_count": 10,
      "outputs": []
    },
    {
      "cell_type": "markdown",
      "metadata": {
        "id": "C9vgytCrcHXH"
      },
      "source": [
        "Load the csv file into a pytorch dataset object."
      ]
    },
    {
      "cell_type": "code",
      "metadata": {
        "id": "iuVYoBuRBUfU"
      },
      "source": [
        "tab_data = data.TabularDataset(path = 'drive/MyDrive/Colab Notebooks/FakeNews/FakeNews.csv',\n",
        "                                        format = 'csv',\n",
        "                                        fields = fields,\n",
        "                                        skip_header = True\n",
        ")"
      ],
      "execution_count": 11,
      "outputs": []
    },
    {
      "cell_type": "markdown",
      "metadata": {
        "id": "cX69x2TMce3T"
      },
      "source": [
        "Split the dataset into training, testing and validation datasets."
      ]
    },
    {
      "cell_type": "code",
      "metadata": {
        "id": "MPTNjVTpE1Xc"
      },
      "source": [
        "import random\n",
        "\n",
        "SEED = 1234\n",
        "\n",
        "train_data, test_data = tab_data.split(split_ratio=0.7, random_state = random.seed(SEED))\n",
        "train_data, validation_data = train_data.split(split_ratio=0.7, random_state = random.seed(SEED))"
      ],
      "execution_count": 12,
      "outputs": []
    },
    {
      "cell_type": "markdown",
      "metadata": {
        "id": "FQdTEiy8Ffw3"
      },
      "source": [
        "Print the lengths of each dataset."
      ]
    },
    {
      "cell_type": "code",
      "metadata": {
        "colab": {
          "base_uri": "https://localhost:8080/"
        },
        "id": "oEmKYZm_BYgL",
        "outputId": "562f1b21-74fc-44b2-f2fd-342089648282"
      },
      "source": [
        "print(\"Number of training examples: \"+str(len(train_data)))\n",
        "print(\"Number of validation examples: \"+str(len(validation_data)))\n",
        "print(\"Number of testing examples: \"+str(len(test_data)))"
      ],
      "execution_count": 13,
      "outputs": [
        {
          "output_type": "stream",
          "name": "stdout",
          "text": [
            "Number of training examples: 10134\n",
            "Number of validation examples: 4343\n",
            "Number of testing examples: 6205\n"
          ]
        }
      ]
    },
    {
      "cell_type": "markdown",
      "metadata": {
        "id": "Ma9ZPzeJcq79"
      },
      "source": [
        "Use the training data to create a vocabulary with a maximum amount of words.\n",
        "\n"
      ]
    },
    {
      "cell_type": "code",
      "metadata": {
        "id": "x0gqDkTycqUn",
        "colab": {
          "base_uri": "https://localhost:8080/"
        },
        "outputId": "29a12186-3093-44d4-e2bd-e21c65551e71"
      },
      "source": [
        "max_vocab_size = 25000\n",
        "\n",
        "TEXT.build_vocab(train_data, max_size=max_vocab_size, \n",
        "                 vectors = \"glove.6B.100d\", \n",
        "                 unk_init = torch.Tensor.normal_)\n",
        "LABEL.build_vocab(train_data)"
      ],
      "execution_count": 14,
      "outputs": [
        {
          "output_type": "stream",
          "name": "stderr",
          "text": [
            "100%|█████████▉| 399999/400000 [00:17<00:00, 22928.91it/s]\n"
          ]
        }
      ]
    },
    {
      "cell_type": "markdown",
      "metadata": {
        "id": "ur4pza5nc01X"
      },
      "source": [
        "Print the size of the vocabulary. The size will be the maximum of words plus two for the unk and pad tokens for words outside the vocabulary and padding, respectively."
      ]
    },
    {
      "cell_type": "code",
      "metadata": {
        "colab": {
          "base_uri": "https://localhost:8080/"
        },
        "id": "Jp7_-t_Wc0UD",
        "outputId": "70ff3bc9-270b-44a6-a2b9-1cb5f63c2e4b"
      },
      "source": [
        "print(\"Unique tokens in TEXT vocabulary: \"+str(len(TEXT.vocab)))\n",
        "print(\"Unique tokens in LABEL vocabulary: \"+str(len(LABEL.vocab)))"
      ],
      "execution_count": 15,
      "outputs": [
        {
          "output_type": "stream",
          "name": "stdout",
          "text": [
            "Unique tokens in TEXT vocabulary: 25002\n",
            "Unique tokens in LABEL vocabulary: 2\n"
          ]
        }
      ]
    },
    {
      "cell_type": "markdown",
      "metadata": {
        "id": "cexQzEd-fTqZ"
      },
      "source": [
        "Create an iterator that contains batches of text for the training loop later in the notebook. If run on Google Colab, turn on the GPU in Notebook settings."
      ]
    },
    {
      "cell_type": "code",
      "metadata": {
        "id": "03E-ViEfdVee"
      },
      "source": [
        "import torch\n",
        "\n",
        "batch_size = 64\n",
        "\n",
        "device = torch.device('cuda' if torch.cuda.is_available() else 'cpu')\n",
        "\n",
        "train_iterator, validation_iterator, test_iterator = data.BucketIterator.splits(\n",
        "    (train_data, validation_data, test_data), \n",
        "    batch_sizes = (batch_size, batch_size, batch_size),\n",
        "    sort=False,\n",
        "    device = device)"
      ],
      "execution_count": 16,
      "outputs": []
    },
    {
      "cell_type": "markdown",
      "metadata": {
        "id": "uSmHdkdsMfmu"
      },
      "source": [
        "Here we introduce our FastText model."
      ]
    },
    {
      "cell_type": "code",
      "metadata": {
        "id": "j51m2BBMjXMk"
      },
      "source": [
        "import torch.nn as nn\n",
        "import torch.nn.functional as F\n",
        "\n",
        "class FastText(nn.Module):\n",
        "    def __init__(self, vocab_size, embedding_dim, output_dim, pad_idx):\n",
        "        \n",
        "        super().__init__()\n",
        "        \n",
        "        # The embedding layer takes the tokenized text input with the vocab\n",
        "        # size as dimension and outputs a vector with less elements of \n",
        "        # dimension embedding_dim. Include padding in this model to make\n",
        "        # the sentences equal in length.\n",
        "        self.embedding = nn.Embedding(vocab_size, embedding_dim, padding_idx=pad_idx)\n",
        "        \n",
        "        # Define the linear layer.\n",
        "        self.fc = nn.Linear(embedding_dim, output_dim)\n",
        "        \n",
        "    def forward(self, text):\n",
        "  \n",
        "        # Get the embedding layer output\n",
        "        embedded = self.embedding(text)\n",
        "        \n",
        "        # Rotate the tensor.\n",
        "        embedded = embedded.permute(1, 0, 2)\n",
        "        \n",
        "        # Average the values of the embedding layer.\n",
        "        pooled = F.avg_pool2d(embedded, (embedded.shape[1], 1)).squeeze(1) \n",
        "                \n",
        "        return self.fc(pooled)"
      ],
      "execution_count": 18,
      "outputs": []
    },
    {
      "cell_type": "markdown",
      "metadata": {
        "id": "0xeSdSmPObs0"
      },
      "source": [
        "Now lets instantiate an model object.\n",
        "\n",
        "\n",
        "*   input_dim = the size of the vocabulary\n",
        "*   embedding_dim = the size of the vector that the embedding layer outputs.\n",
        "*   hiddem_dim = the size of the hidden states\n",
        "*   output_dim = one that quantifies the class probability i.e. being fake news or not.\n",
        "\n",
        "\n",
        "\n"
      ]
    },
    {
      "cell_type": "code",
      "metadata": {
        "id": "hsCJ-jcxN6BN"
      },
      "source": [
        "input_dim = len(TEXT.vocab)\n",
        "embedding_dim = 100\n",
        "output_dim = 1\n",
        "pad_idx = TEXT.vocab.stoi[TEXT.pad_token]\n",
        "\n",
        "model = FastText(input_dim, embedding_dim, output_dim, pad_idx)"
      ],
      "execution_count": 19,
      "outputs": []
    },
    {
      "cell_type": "markdown",
      "metadata": {
        "id": "sihfu_JrZsJY"
      },
      "source": [
        "Get the embedding layer weights from the pretrained GloVe word vectors. And set copy them to the model."
      ]
    },
    {
      "cell_type": "code",
      "metadata": {
        "colab": {
          "base_uri": "https://localhost:8080/"
        },
        "id": "U6vcrFUmLYU1",
        "outputId": "cca0b07a-d3d3-4f96-aea8-a8578601d99b"
      },
      "source": [
        "pretrained_embeddings = TEXT.vocab.vectors\n",
        "model.embedding.weight.data.copy_(pretrained_embeddings)"
      ],
      "execution_count": 20,
      "outputs": [
        {
          "output_type": "execute_result",
          "data": {
            "text/plain": [
              "tensor([[-0.1117, -0.4966,  0.1631,  ...,  1.2647, -0.2753, -0.1325],\n",
              "        [-0.8555, -0.7208,  1.3755,  ...,  0.0825, -1.1314,  0.3997],\n",
              "        [-0.1077,  0.1105,  0.5981,  ..., -0.8316,  0.4529,  0.0826],\n",
              "        ...,\n",
              "        [ 0.3149, -0.5569,  1.7605,  ...,  1.1534, -0.2848,  2.5636],\n",
              "        [-0.5501, -0.9610, -0.9494,  ...,  1.4609, -1.2607,  0.5446],\n",
              "        [ 1.5952,  0.9065, -1.5196,  ..., -0.6795,  0.7539, -1.8911]])"
            ]
          },
          "metadata": {},
          "execution_count": 20
        }
      ]
    },
    {
      "cell_type": "code",
      "metadata": {
        "id": "GzncuG1hLfm5"
      },
      "source": [
        "\n",
        "unk_idx = TEXT.vocab.stoi[TEXT.unk_token]\n",
        "\n",
        "model.embedding.weight.data[unk_idx] = torch.zeros(embedding_dim)\n",
        "model.embedding.weight.data[pad_idx] = torch.zeros(embedding_dim)"
      ],
      "execution_count": 21,
      "outputs": []
    },
    {
      "cell_type": "markdown",
      "metadata": {
        "id": "BdV5x0oyPQmf"
      },
      "source": [
        "Define the optimizer."
      ]
    },
    {
      "cell_type": "code",
      "metadata": {
        "id": "hjjoWl-WPNUF"
      },
      "source": [
        "import torch.optim as optim\n",
        "\n",
        "optimizer = optim.Adam(model.parameters())"
      ],
      "execution_count": 22,
      "outputs": []
    },
    {
      "cell_type": "markdown",
      "metadata": {
        "id": "FlebeOqUPVD2"
      },
      "source": [
        "Define the loss criterion that will be minimized."
      ]
    },
    {
      "cell_type": "code",
      "metadata": {
        "id": "EKO47bLNPSOM"
      },
      "source": [
        "criterion = torch.nn.BCEWithLogitsLoss()"
      ],
      "execution_count": 23,
      "outputs": []
    },
    {
      "cell_type": "markdown",
      "metadata": {
        "id": "kulei65APcnZ"
      },
      "source": [
        "Place the model and loss function on the GPU"
      ]
    },
    {
      "cell_type": "code",
      "metadata": {
        "id": "yfWnBd0MPZTd"
      },
      "source": [
        "model = model.to(device)\n",
        "criterion = criterion.to(device)"
      ],
      "execution_count": 24,
      "outputs": []
    },
    {
      "cell_type": "markdown",
      "metadata": {
        "id": "BF9axKxyPooa"
      },
      "source": [
        "Define the accuracy of the model"
      ]
    },
    {
      "cell_type": "code",
      "metadata": {
        "id": "tLScCPWRPfJD"
      },
      "source": [
        "def binary_accuracy(preds, y):\n",
        "    rounded_preds = torch.round(torch.sigmoid(preds))\n",
        "    correct = (rounded_preds == y).float()\n",
        "    acc = correct.sum() / len(correct)\n",
        "    return acc"
      ],
      "execution_count": 25,
      "outputs": []
    },
    {
      "cell_type": "markdown",
      "metadata": {
        "id": "sACojeLvPzma"
      },
      "source": [
        "Define the training loop"
      ]
    },
    {
      "cell_type": "code",
      "metadata": {
        "id": "TjO6xm1vPw1_"
      },
      "source": [
        "def train(model, iterator, optimizer, criterion):\n",
        "    \n",
        "    # Define placeholders for the loss and accuracy.\n",
        "    epoch_loss = 0\n",
        "    epoch_acc = 0\n",
        "    \n",
        "    # Set the model in train mode. This only affects \n",
        "    # dropout and batch norm layers.\n",
        "    model.train()\n",
        "\n",
        "    # Loop over the batches.\n",
        "    for batch in iterator:\n",
        "        \n",
        "        # Reset the gradient for each batch.\n",
        "        optimizer.zero_grad()\n",
        "\n",
        "        # Get the predictions.\n",
        "        predictions = model(batch.text).squeeze(1)\n",
        "        \n",
        "        # Calculate the loss.\n",
        "        loss = criterion(predictions, batch.label)\n",
        "        \n",
        "        # Calculate the accuracy.\n",
        "        acc = binary_accuracy(predictions, batch.label)\n",
        "        \n",
        "        # Do back propagation.\n",
        "        loss.backward()\n",
        "        \n",
        "        # Take a step in parameter space.\n",
        "        optimizer.step()\n",
        "        \n",
        "        # Sum the loss and accuracy.\n",
        "        epoch_loss += loss.item()\n",
        "        epoch_acc += acc.item()\n",
        "    \n",
        "    # Return the average loss and accuracy.\n",
        "    return epoch_loss / len(iterator), epoch_acc / len(iterator)"
      ],
      "execution_count": 27,
      "outputs": []
    },
    {
      "cell_type": "markdown",
      "metadata": {
        "id": "IEKbkwoTP5rr"
      },
      "source": [
        "Define a loop to evaluate the model on the testing data."
      ]
    },
    {
      "cell_type": "code",
      "metadata": {
        "id": "qBC-JKSsP11O"
      },
      "source": [
        "def evaluate(model, iterator, criterion):\n",
        "    \n",
        "    # Define placeholders for the loss and accuracy.\n",
        "    epoch_loss = 0\n",
        "    epoch_acc = 0\n",
        "    \n",
        "    # Set the model in eval mode. This only affects \n",
        "    # dropout and batch norm layers.\n",
        "    model.eval()\n",
        "    \n",
        "    # Set the parameters constant.\n",
        "    with torch.no_grad():\n",
        "    \n",
        "        # Loop over the batches.\n",
        "        for batch in iterator:\n",
        "\n",
        "            # Get the predictions.\n",
        "            predictions = model(batch.text).squeeze(1)\n",
        "            \n",
        "            # Calculate the loss.\n",
        "            loss = criterion(predictions, batch.label)\n",
        "            \n",
        "            # Calculate the accuracy.\n",
        "            acc = binary_accuracy(predictions, batch.label)\n",
        "\n",
        "            # Sum the loss and accuracy.\n",
        "            epoch_loss += loss.item()\n",
        "            epoch_acc += acc.item()\n",
        "    \n",
        "    # Return the average loss and accuracy.\n",
        "    return epoch_loss / len(iterator), epoch_acc / len(iterator)"
      ],
      "execution_count": 28,
      "outputs": []
    },
    {
      "cell_type": "markdown",
      "metadata": {
        "id": "0AlX7FBZQDe9"
      },
      "source": [
        "Define a function that will calculate the passed time for each epoch."
      ]
    },
    {
      "cell_type": "code",
      "metadata": {
        "id": "jo1fB00UQBS9"
      },
      "source": [
        "import time\n",
        "\n",
        "def epoch_time(start_time, end_time):\n",
        "    elapsed_time = end_time - start_time\n",
        "    elapsed_mins = int(elapsed_time / 60)\n",
        "    elapsed_secs = int(elapsed_time - (elapsed_mins * 60))\n",
        "    return elapsed_mins, elapsed_secs"
      ],
      "execution_count": 29,
      "outputs": []
    },
    {
      "cell_type": "markdown",
      "metadata": {
        "id": "034z6RZwQMCg"
      },
      "source": [
        "Run the training."
      ]
    },
    {
      "cell_type": "code",
      "metadata": {
        "colab": {
          "base_uri": "https://localhost:8080/"
        },
        "id": "ldOq7gXWQJUy",
        "outputId": "057ccbf1-bd01-49fb-e9f3-b329e8a6cda0"
      },
      "source": [
        "N_EPOCHS = 5\n",
        "\n",
        "best_valid_loss = float('inf')\n",
        "\n",
        "for epoch in range(N_EPOCHS):\n",
        "\n",
        "    start_time = time.time()\n",
        "    \n",
        "    train_loss, train_acc = train(model, train_iterator, optimizer, criterion)\n",
        "    valid_loss, valid_acc = evaluate(model, validation_iterator, criterion)\n",
        "    \n",
        "    end_time = time.time()\n",
        "\n",
        "    epoch_mins, epoch_secs = epoch_time(start_time, end_time)\n",
        "    \n",
        "    print(f'Epoch: {epoch+1:02} | Epoch Time: {epoch_mins}m {epoch_secs}s')\n",
        "    print(f'\\tTrain Loss: {train_loss:.3f} | Train Acc: {train_acc*100:.2f}%')\n",
        "    print(f'\\t Val. Loss: {valid_loss:.3f} |  Val. Acc: {valid_acc*100:.2f}%')"
      ],
      "execution_count": 30,
      "outputs": [
        {
          "output_type": "stream",
          "name": "stdout",
          "text": [
            "Epoch: 01 | Epoch Time: 0m 32s\n",
            "\tTrain Loss: 0.682 | Train Acc: 62.45%\n",
            "\t Val. Loss: 0.664 |  Val. Acc: 68.83%\n",
            "Epoch: 02 | Epoch Time: 0m 31s\n",
            "\tTrain Loss: 0.643 | Train Acc: 72.50%\n",
            "\t Val. Loss: 0.611 |  Val. Acc: 82.50%\n",
            "Epoch: 03 | Epoch Time: 0m 31s\n",
            "\tTrain Loss: 0.572 | Train Acc: 85.03%\n",
            "\t Val. Loss: 0.527 |  Val. Acc: 89.73%\n",
            "Epoch: 04 | Epoch Time: 0m 31s\n",
            "\tTrain Loss: 0.494 | Train Acc: 90.39%\n",
            "\t Val. Loss: 0.447 |  Val. Acc: 92.02%\n",
            "Epoch: 05 | Epoch Time: 0m 30s\n",
            "\tTrain Loss: 0.413 | Train Acc: 92.47%\n",
            "\t Val. Loss: 0.382 |  Val. Acc: 93.79%\n"
          ]
        }
      ]
    },
    {
      "cell_type": "markdown",
      "metadata": {
        "id": "QrMniDGua09S"
      },
      "source": [
        "Test the model."
      ]
    },
    {
      "cell_type": "code",
      "metadata": {
        "id": "Uhj7ijfLQNrN",
        "colab": {
          "base_uri": "https://localhost:8080/"
        },
        "outputId": "f675a818-f468-453e-d02e-d72726d2cae0"
      },
      "source": [
        "test_loss, test_acc = evaluate(model, test_iterator, criterion)\n",
        "\n",
        "print(f'Test Loss: {test_loss:.3f} | Test Acc: {test_acc*100:.2f}%')"
      ],
      "execution_count": 31,
      "outputs": [
        {
          "output_type": "stream",
          "name": "stdout",
          "text": [
            "Test Loss: 0.394 | Test Acc: 92.99%\n"
          ]
        }
      ]
    },
    {
      "cell_type": "markdown",
      "metadata": {
        "id": "uRdRPcAza3dl"
      },
      "source": [
        "The trained FastText model shows a good accuracy of ~92% on the testing data. This is lower than the previously trained LSTM model(99%) but the training is considerably faster."
      ]
    }
  ]
}