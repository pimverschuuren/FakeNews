{
  "nbformat": 4,
  "nbformat_minor": 0,
  "metadata": {
    "colab": {
      "name": "TextPreprocessing.ipynb",
      "provenance": [],
      "collapsed_sections": [],
      "mount_file_id": "1QLJNtenJUSYvO0O6B08c_owK8Y81tmuK",
      "authorship_tag": "ABX9TyMKA3e7+WMeEUhG5byM0nbB",
      "include_colab_link": true
    },
    "kernelspec": {
      "name": "python3",
      "display_name": "Python 3"
    },
    "language_info": {
      "name": "python"
    }
  },
  "cells": [
    {
      "cell_type": "markdown",
      "metadata": {
        "id": "view-in-github",
        "colab_type": "text"
      },
      "source": [
        "<a href=\"https://colab.research.google.com/github/pimverschuuren/FakeNews/blob/main/TextPreprocessing.ipynb\" target=\"_parent\"><img src=\"https://colab.research.google.com/assets/colab-badge.svg\" alt=\"Open In Colab\"/></a>"
      ]
    },
    {
      "cell_type": "markdown",
      "metadata": {
        "id": "8K2hi54SWSh6"
      },
      "source": [
        "Load the dataset into a pandas dataframe.\n",
        "\n",
        "\n"
      ]
    },
    {
      "cell_type": "code",
      "metadata": {
        "id": "Blwe0H6RWSH8"
      },
      "source": [
        "import pandas as pd\n",
        "\n",
        "text_data = pd.read_csv('drive/MyDrive/Colab Notebooks/FakeNews/FakeNews.csv')"
      ],
      "execution_count": null,
      "outputs": []
    },
    {
      "cell_type": "markdown",
      "metadata": {
        "id": "bcUq_6HimHaO"
      },
      "source": [
        "Drop any of the datapoints that do not have a label."
      ]
    },
    {
      "cell_type": "code",
      "metadata": {
        "id": "v6645HMvpFiM"
      },
      "source": [
        "text_data.dropna(subset = [\"label\"], inplace=True)"
      ],
      "execution_count": null,
      "outputs": []
    },
    {
      "cell_type": "markdown",
      "metadata": {
        "id": "zjGRXVotadaJ"
      },
      "source": [
        "Reduce to lower case, only keep alphabetic characters and stem the words."
      ]
    },
    {
      "cell_type": "code",
      "metadata": {
        "id": "wBFKl-6QYpAn"
      },
      "source": [
        "import re\n",
        "from gensim.parsing.porter import PorterStemmer\n",
        "\n",
        "p = PorterStemmer()\n",
        "for index, rows in text_data.iterrows():\n",
        "  lower_case = str(rows[\"text\"]).lower()\n",
        "  alpha_lower = re.sub(r'[^A-Za-z ]+', '', lower_case)\n",
        "  alpha_lower_stem = p.stem(alpha_lower)\n",
        "  text_data.loc[index,[\"text\"]] = alpha_lower_stem"
      ],
      "execution_count": null,
      "outputs": []
    },
    {
      "cell_type": "markdown",
      "metadata": {
        "id": "7Tm5wtSyx8Q4"
      },
      "source": [
        "Save the preprocessed text to a new csv-file."
      ]
    },
    {
      "cell_type": "code",
      "metadata": {
        "id": "6J1J3Zb5rscy"
      },
      "source": [
        "text_data.to_csv('drive/MyDrive/Colab Notebooks/FakeNews/FakeNews.csv', index=False)"
      ],
      "execution_count": null,
      "outputs": []
    }
  ]
}